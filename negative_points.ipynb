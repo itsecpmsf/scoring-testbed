{
 "cells": [
  {
   "cell_type": "code",
   "execution_count": 29,
   "metadata": {
    "collapsed": false
   },
   "outputs": [
    {
     "name": "stdout",
     "output_type": "stream",
     "text": [
      "Negative Points\n",
      "Comments: \n",
      "Try to make the curve less steep\n"
     ]
    },
    {
     "data": {
      "text/html": [
       "<iframe id=\"igraph\" scrolling=\"no\" style=\"border:none;\" seamless=\"seamless\" src=\"https://plot.ly/~pmoolrajani/11.embed\" height=\"525px\" width=\"100%\"></iframe>"
      ],
      "text/plain": [
       "<plotly.tools.PlotlyDisplay object>"
      ]
     },
     "execution_count": 29,
     "metadata": {},
     "output_type": "execute_result"
    }
   ],
   "source": [
    "import math\n",
    "\n",
    "import plotly\n",
    "plotly.tools.set_credentials_file(username='pmoolrajani', api_key='lqy9gutcnu')\n",
    "import plotly.plotly as py\n",
    "from plotly.graph_objs import *\n",
    "\n",
    "p = 0.25\n",
    "\n",
    "score_base = 500\n",
    "\n",
    "c_pos = 22\n",
    "c_neg = 22\n",
    "\n",
    "score_max = score_base + c_pos\n",
    "score_min = score_base - c_neg\n",
    "\n",
    "x_axis = []\n",
    "y_axis = []\n",
    "\n",
    "score = score_base + c_pos \n",
    "\n",
    "print (\"Negative Points\")\n",
    "print (\"Name - Negative Points\\nComments: \\nTry to make the curve less steep\")\n",
    "\n",
    "for i in range(1,21):\n",
    "    score = score - ((score - score_min)*p)\n",
    "    x_axis.append(i)\n",
    "    y_axis.append(score)\n",
    "\n",
    "trace = Scatter(\n",
    "    x = x_axis,\n",
    "    y = y_axis\n",
    ")\n",
    "data = Data([trace])\n",
    "py.iplot(data, filename='negative_points')\n",
    "\n"
   ]
  }
 ],
 "metadata": {
  "kernelspec": {
   "display_name": "Python 3",
   "language": "python",
   "name": "python3"
  },
  "language_info": {
   "codemirror_mode": {
    "name": "ipython",
    "version": 3
   },
   "file_extension": ".py",
   "mimetype": "text/x-python",
   "name": "python",
   "nbconvert_exporter": "python",
   "pygments_lexer": "ipython3",
   "version": "3.5.1"
  }
 },
 "nbformat": 4,
 "nbformat_minor": 0
}
