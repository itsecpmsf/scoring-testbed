import math

import plotly
plotly.tools.set_credentials_file(username='pmoolrajani', api_key='lqy9gutcnu')
import plotly.plotly as py
from plotly.graph_objs import *

p = 0.25

score_base = 500

c_pos = 22
c_neg = 22

score_max = score_base + c_pos
score_min = score_base - c_neg

x_axis = []
y_axis = []

score = score_base + c_pos 

print ("Negative Points")
print ("Name - Negative Points\nComments: \nTry to make the curve less steep")

for i in range(1,21):
    score = score - ((score - score_min)*p)
    x_axis.append(i)
    y_axis.append(score)

trace = Scatter(
    x = x_axis,
    y = y_axis
)
data = Data([trace])
py.iplot(data, filename='negative_points')

