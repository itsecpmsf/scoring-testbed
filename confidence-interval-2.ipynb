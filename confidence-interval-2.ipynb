p = 0.5

upper_limit_y_axis = []
lower_limit_y_axis = []

score_x_axis = []


for score in range(0,1000):
    delta = 1000-score
    c_pos = math.pow(delta, p)
    c_neg = math.pow(score, p)
    
    upper_limit_y_axis.append(score + c_pos)
    lower_limit_y_axis.append(score - c_neg)
    
    score_x_axis.append(score)

trace_upper_limit = Scatter(
    x = x_axis,
    y = y_axis
)

trace_upper = Scatter (x=score_x_axis, y=upper_limit_y_axis)
trace_straight = Scatter (x=score_x_axis, y=score_x_axis)
trace_lower = Scatter (x=score_x_axis, y=lower_limit_y_axis)

data = Data([trace_upper, trace_straight, trace_lower])
py.iplot(data, filename='score')
