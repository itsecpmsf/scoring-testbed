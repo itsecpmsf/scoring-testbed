{
 "cells": [
  {
   "cell_type": "code",
   "execution_count": 36,
   "metadata": {
    "collapsed": false
   },
   "outputs": [
    {
     "data": {
      "text/html": [
       "<iframe id=\"igraph\" scrolling=\"no\" style=\"border:none;\" seamless=\"seamless\" src=\"https://plot.ly/~pmoolrajani/4.embed\" height=\"525px\" width=\"100%\"></iframe>"
      ],
      "text/plain": [
       "<plotly.tools.PlotlyDisplay object>"
      ]
     },
     "execution_count": 36,
     "metadata": {},
     "output_type": "execute_result"
    }
   ],
   "source": [
    "import math\n",
    "\n",
    "import plotly\n",
    "plotly.tools.set_credentials_file(username='pmoolrajani', api_key='lqy9gutcnu')\n",
    "import plotly.plotly as py\n",
    "from plotly.graph_objs import *\n",
    "\n",
    "p = 0.5\n",
    "x_axis = []\n",
    "y_axis = []\n",
    "\n",
    "for score in range(0,1000):\n",
    "    delta = 1000-score\n",
    "    c = math.pow(delta, p)\n",
    "    x_axis.append(score)\n",
    "    y_axis.append(c)\n",
    "\n",
    "trace = Scatter(\n",
    "    x = x_axis,\n",
    "    y = y_axis\n",
    ")\n",
    "data = Data([trace])\n",
    "py.iplot(data, filename='confidence_interval')\n"
   ]
  },
  {
   "cell_type": "code",
   "execution_count": 33,
   "metadata": {
    "collapsed": false
   },
   "outputs": [
    {
     "data": {
      "text/html": [
       "<iframe id=\"igraph\" scrolling=\"no\" style=\"border:none;\" seamless=\"seamless\" src=\"https://plot.ly/~pmoolrajani/8.embed\" height=\"525px\" width=\"100%\"></iframe>"
      ],
      "text/plain": [
       "<plotly.tools.PlotlyDisplay object>"
      ]
     },
     "execution_count": 33,
     "metadata": {},
     "output_type": "execute_result"
    }
   ],
   "source": [
    "p = 0.5\n",
    "\n",
    "upper_limit_y_axis = []\n",
    "lower_limit_y_axis = []\n",
    "\n",
    "score_x_axis = []\n",
    "\n",
    "\n",
    "for score in range(0,1000):\n",
    "    delta = 1000-score\n",
    "    c_pos = math.pow(delta, p)\n",
    "    c_neg = math.pow(score, p)\n",
    "    \n",
    "    upper_limit_y_axis.append(score + c_pos)\n",
    "    lower_limit_y_axis.append(score - c_neg)\n",
    "    \n",
    "    score_x_axis.append(score)\n",
    "\n",
    "trace_upper_limit = Scatter(\n",
    "    x = x_axis,\n",
    "    y = y_axis\n",
    ")\n",
    "\n",
    "trace_upper = Scatter (x=score_x_axis, y=upper_limit_y_axis)\n",
    "trace_straight = Scatter (x=score_x_axis, y=score_x_axis)\n",
    "trace_lower = Scatter (x=score_x_axis, y=lower_limit_y_axis)\n",
    "\n",
    "data = Data([trace_upper, trace_straight, trace_lower])\n",
    "py.iplot(data, filename='score')\n"
   ]
  }
 ],
 "metadata": {
  "kernelspec": {
   "display_name": "Python 3",
   "language": "python",
   "name": "python3"
  },
  "language_info": {
   "codemirror_mode": {
    "name": "ipython",
    "version": 3
   },
   "file_extension": ".py",
   "mimetype": "text/x-python",
   "name": "python",
   "nbconvert_exporter": "python",
   "pygments_lexer": "ipython3",
   "version": "3.5.1"
  }
 },
 "nbformat": 4,
 "nbformat_minor": 0
}
