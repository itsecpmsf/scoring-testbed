import math

import plotly
plotly.tools.set_credentials_file(username='pmoolrajani', api_key='lqy9gutcnu')
import plotly.plotly as py
from plotly.graph_objs import *

p = 0.5
x_axis = []
y_axis = []

for score in range(0,1000):
    delta = 1000-score
    c = math.pow(delta, p)
    x_axis.append(score)
    y_axis.append(c)

trace = Scatter(
    x = x_axis,
    y = y_axis
)
data = Data([trace])
py.iplot(data, filename='confidence_interval')
