{
 "cells": [
  {
   "cell_type": "code",
   "execution_count": 21,
   "metadata": {
    "collapsed": false
   },
   "outputs": [
    {
     "name": "stdout",
     "output_type": "stream",
     "text": [
      "{datetime.datetime(2016, 8, 5, 0, 0): 0, datetime.datetime(2016, 8, 19, 0, 0): 0, datetime.datetime(2016, 8, 4, 0, 0): 0, datetime.datetime(2016, 8, 12, 0, 0): 0, datetime.datetime(2016, 9, 13, 0, 0): 0, datetime.datetime(2016, 9, 9, 0, 0): 0, datetime.datetime(2016, 8, 28, 0, 0): 0, datetime.datetime(2016, 9, 5, 0, 0): 1040, datetime.datetime(2016, 8, 8, 0, 0): 0, datetime.datetime(2016, 8, 15, 0, 0): 0, datetime.datetime(2016, 8, 2, 0, 0): 0, datetime.datetime(2016, 8, 3, 0, 0): 1090, datetime.datetime(2016, 8, 26, 0, 0): 0, datetime.datetime(2016, 8, 17, 0, 0): 0, datetime.datetime(2016, 8, 22, 0, 0): 0, datetime.datetime(2016, 8, 9, 0, 0): 0, datetime.datetime(2016, 8, 13, 0, 0): 0, datetime.datetime(2016, 8, 20, 0, 0): 0, datetime.datetime(2016, 9, 1, 0, 0): 0, datetime.datetime(2016, 8, 24, 0, 0): 0, datetime.datetime(2016, 8, 23, 0, 0): 0, datetime.datetime(2016, 9, 14, 0, 0): 0, datetime.datetime(2016, 8, 7, 0, 0): 0, datetime.datetime(2016, 8, 21, 0, 0): 0, datetime.datetime(2016, 8, 11, 0, 0): 0, datetime.datetime(2016, 9, 7, 0, 0): 0, datetime.datetime(2016, 9, 2, 0, 0): 0, datetime.datetime(2016, 8, 6, 0, 0): 0, datetime.datetime(2016, 8, 14, 0, 0): 0, datetime.datetime(2016, 8, 16, 0, 0): 0, datetime.datetime(2016, 9, 10, 0, 0): 0, datetime.datetime(2016, 9, 11, 0, 0): 0, datetime.datetime(2016, 8, 25, 0, 0): 0, datetime.datetime(2016, 9, 6, 0, 0): 0, datetime.datetime(2016, 9, 12, 0, 0): 0, datetime.datetime(2016, 9, 4, 0, 0): 0, datetime.datetime(2016, 9, 8, 0, 0): 0, datetime.datetime(2016, 8, 29, 0, 0): 0, datetime.datetime(2016, 8, 18, 0, 0): 0, datetime.datetime(2016, 8, 10, 0, 0): 0, datetime.datetime(2016, 8, 31, 0, 0): 0, datetime.datetime(2016, 8, 30, 0, 0): 0, datetime.datetime(2016, 9, 15, 0, 0): 0, datetime.datetime(2016, 9, 3, 0, 0): 0, datetime.datetime(2016, 8, 27, 0, 0): 0}\n",
      "High five! You successfuly sent some data to your account on plotly. View your plot in your browser at https://plot.ly/~pmoolrajani/0 or inside your plot.ly account where it is named 'basic-line'\n"
     ]
    },
    {
     "data": {
      "text/html": [
       "<iframe id=\"igraph\" scrolling=\"no\" style=\"border:none;\" seamless=\"seamless\" src=\"https://plot.ly/~pmoolrajani/0.embed\" height=\"525px\" width=\"100%\"></iframe>"
      ],
      "text/plain": [
       "<plotly.tools.PlotlyDisplay object>"
      ]
     },
     "execution_count": 21,
     "metadata": {},
     "output_type": "execute_result"
    }
   ],
   "source": [
    "import plotly\n",
    "plotly.tools.set_credentials_file(username='pmoolrajani', api_key='lqy9gutcnu')\n",
    "\n",
    "import plotly.plotly as py\n",
    "from plotly.graph_objs import *\n",
    "\n",
    "import datetime\n",
    "#read data from csv\n",
    "#add score for each event in csv using scoring formula - retrun json of score and date\n",
    "#display graph\n",
    "\n",
    "\n",
    "dict_event_config = {\n",
    "    1: {'name': 'Incidents', 'weight': 50, 'sla': 3},\n",
    "    2: {'name': 'Patching', 'weight': 30, 'sla': 7},\n",
    "    3: {'name': 'Training', 'weight': 20}\n",
    "}\n",
    "\n",
    "score_start = 1000\n",
    "score_max = 1000\n",
    "score_min = 0\n",
    "\n",
    "score = score_start\n",
    "\n",
    "dt_start = datetime.datetime(2016, 8, 1)\n",
    "dt_today = datetime.datetime(2016, 9, 5)\n",
    "\n",
    "dict_score = {}\n",
    "dt_counter = dt_start\n",
    "for i in range(45): \n",
    "    dt_counter += datetime.timedelta(days=1)\n",
    "    dict_score[dt_counter] = 0\n",
    "\n",
    "file_path = 'data/pmoolrajani-001.csv'\n",
    "\n",
    "file_data = open(file_path).readlines()\n",
    "\n",
    "for line in file_data:\n",
    "    \n",
    "    event = line.split(',')\n",
    "    \n",
    "    event_type = int(event[1])\n",
    "\n",
    "    dt_event_str = event[2]\n",
    "    dt_event = datetime.datetime.strptime(dt_event_str, '%m/%d/%y')\n",
    "    \n",
    "    dt_action_str = event[3]\n",
    "    \n",
    "    if dt_action_str == '':\n",
    "        \n",
    "        if (dt_today-dt_event).days > dict_event_config[event_type]['sla']:\n",
    "            \n",
    "            score = score - 10\n",
    "            \n",
    "            dict_score[dt_today] = score\n",
    "            \n",
    "    elif (dt_action-dt_event).days < dict_event_config[event_type]['sla']:\n",
    "        \n",
    "        score = score + 10\n",
    "        \n",
    "        dict_score[dt_action] = score\n",
    "    \n",
    "print (dict_score)\n",
    "        \n",
    "        \n",
    "        \n",
    "\"\"\"\n",
    "\n",
    "dt_action = datetime.datetime.strptime(event[3], '%m/%d/%y')\n",
    "\n",
    "#add score if responded within time frame\n",
    "#subtract score if not responded after sla\n",
    "\n",
    "if dt_action == '' and (dt_today-dt_event).days > dict_event_config[event_type]['sla']:\n",
    "    #subtract points coz sla passed\n",
    "    score_start -= 10\n",
    "\n",
    "elif (dt_action-dt_event).days < dict_event_config[event_type]['sla']:\n",
    "    #add points coz responded in sla\n",
    "    score_start += 10\n",
    "\n",
    "\"\"\"  \n",
    "\n",
    "trace0 = Scatter(\n",
    "    x=[1, 2, 3, 4],\n",
    "    y=[10, 15, 13, 17]\n",
    ")\n",
    "trace1 = Scatter(\n",
    "    x=[1, 2, 3, 4],\n",
    "    y=[16, 5, 11, 9]\n",
    ")\n",
    "data = Data([trace0, trace1])\n",
    "\n",
    "py.iplot(data, filename = 'basic-line')"
   ]
  }
 ],
 "metadata": {
  "kernelspec": {
   "display_name": "Python 3",
   "language": "python",
   "name": "python3"
  },
  "language_info": {
   "codemirror_mode": {
    "name": "ipython",
    "version": 3
   },
   "file_extension": ".py",
   "mimetype": "text/x-python",
   "name": "python",
   "nbconvert_exporter": "python",
   "pygments_lexer": "ipython3",
   "version": "3.5.1"
  }
 },
 "nbformat": 4,
 "nbformat_minor": 0
}
