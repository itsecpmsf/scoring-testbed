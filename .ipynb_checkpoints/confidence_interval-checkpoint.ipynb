{
 "cells": [
  {
   "cell_type": "code",
   "execution_count": 20,
   "metadata": {
    "collapsed": false
   },
   "outputs": [
    {
     "data": {
      "text/html": [
       "<iframe id=\"igraph\" scrolling=\"no\" style=\"border:none;\" seamless=\"seamless\" src=\"https://plot.ly/~pmoolrajani/4.embed\" height=\"525px\" width=\"100%\"></iframe>"
      ],
      "text/plain": [
       "<plotly.tools.PlotlyDisplay object>"
      ]
     },
     "execution_count": 20,
     "metadata": {},
     "output_type": "execute_result"
    }
   ],
   "source": [
    "import math\n",
    "\n",
    "import plotly\n",
    "plotly.tools.set_credentials_file(username='pmoolrajani', api_key='lqy9gutcnu')\n",
    "import plotly.plotly as py\n",
    "from plotly.graph_objs import *\n",
    "\n",
    "p = 0.5\n",
    "x_axis = []\n",
    "y_axis = []\n",
    "\n",
    "for score in range(500,1000):\n",
    "    delta = 1000-score\n",
    "    c = math.pow(delta, p)\n",
    "    x_axis.append(score)\n",
    "    y_axis.append(c)\n",
    "\n",
    "trace = Scatter(\n",
    "    x = x_axis,\n",
    "    y = y_axis\n",
    ")\n",
    "data = Data([trace])\n",
    "py.iplot(data, filename='confidence_interval')\n"
   ]
  },
  {
   "cell_type": "code",
   "execution_count": 19,
   "metadata": {
    "collapsed": false
   },
   "outputs": [
    {
     "data": {
      "text/html": [
       "<iframe id=\"igraph\" scrolling=\"no\" style=\"border:none;\" seamless=\"seamless\" src=\"https://plot.ly/~pmoolrajani/6.embed\" height=\"525px\" width=\"100%\"></iframe>"
      ],
      "text/plain": [
       "<plotly.tools.PlotlyDisplay object>"
      ]
     },
     "execution_count": 19,
     "metadata": {},
     "output_type": "execute_result"
    }
   ],
   "source": [
    "p = 0.57\n",
    "\n",
    "upper_limi_x_axis = []\n",
    "lower_limi_x_axis = []\n",
    "\n",
    "score_x_axis = []\n",
    "score_y_axis = []\n",
    "\n",
    "\n",
    "for score in range(500,1000):\n",
    "    delta = 1000-score\n",
    "    c = math.pow(delta, p)\n",
    "    score_max = score + c\n",
    "    upper_limit_x_axis.append(score)\n",
    "    upper_limit_y_axis.append(score_max)\n",
    "\n",
    "trace_upper_limit = Scatter(\n",
    "    x = x_axis,\n",
    "    y = y_axis\n",
    ")\n",
    "data = Data([trace])\n",
    "py.iplot(data, filename='max_score')\n"
   ]
  }
 ],
 "metadata": {
  "kernelspec": {
   "display_name": "Python 3",
   "language": "python",
   "name": "python3"
  },
  "language_info": {
   "codemirror_mode": {
    "name": "ipython",
    "version": 3
   },
   "file_extension": ".py",
   "mimetype": "text/x-python",
   "name": "python",
   "nbconvert_exporter": "python",
   "pygments_lexer": "ipython3",
   "version": "3.5.1"
  }
 },
 "nbformat": 4,
 "nbformat_minor": 0
}
