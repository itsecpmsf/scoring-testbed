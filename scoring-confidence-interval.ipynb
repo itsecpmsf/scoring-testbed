{
 "cells": [
  {
   "cell_type": "code",
   "execution_count": 7,
   "metadata": {
    "collapsed": true
   },
   "outputs": [],
   "source": [
    "# Config Section: inital values, constants, libraries etc\n",
    "\n",
    "import math\n",
    "\n",
    "import plotly\n",
    "plotly.tools.set_credentials_file(username='pmoolrajani', api_key='lqy9gutcnu')\n",
    "import plotly.plotly as py\n",
    "from plotly.graph_objs import *\n",
    "\n",
    "# defining constants\n",
    "__SCORE_MAX = 1000\n",
    "\n",
    "# declaring intial values\n",
    "p = 0.5"
   ]
  },
  {
   "cell_type": "code",
   "execution_count": 8,
   "metadata": {
    "collapsed": false
   },
   "outputs": [
    {
     "name": "stdout",
     "output_type": "stream",
     "text": [
      "Positive Confidence Interval\n"
     ]
    },
    {
     "data": {
      "text/html": [
       "<iframe id=\"igraph\" scrolling=\"no\" style=\"border:none;\" seamless=\"seamless\" src=\"https://plot.ly/~pmoolrajani/19.embed\" height=\"525px\" width=\"100%\"></iframe>"
      ],
      "text/plain": [
       "<plotly.tools.PlotlyDisplay object>"
      ]
     },
     "execution_count": 8,
     "metadata": {},
     "output_type": "execute_result"
    }
   ],
   "source": [
    "# Logic Section - positive confidence interval  \n",
    "\n",
    "x_axis = []\n",
    "y_axis = []\n",
    "\n",
    "for score_emp in range(0,1000):\n",
    "    cpos = math.pow((__SCORE_MAX - score_emp), p)\n",
    "    x_axis.append(score_emp)\n",
    "    y_axis.append(cpos)\n",
    "\n",
    "trace_cpos = Scatter(\n",
    "    x = x_axis,\n",
    "    y = y_axis\n",
    ")\n",
    "\n",
    "\n",
    "data = Data([trace_cpos])\n",
    "print ('Positive Confidence Interval')\n",
    "py.iplot(data, filename='confidence_interval_pos')\n"
   ]
  },
  {
   "cell_type": "code",
   "execution_count": 9,
   "metadata": {
    "collapsed": false
   },
   "outputs": [
    {
     "name": "stdout",
     "output_type": "stream",
     "text": [
      "Negative Confidence Interval\n"
     ]
    },
    {
     "data": {
      "text/html": [
       "<iframe id=\"igraph\" scrolling=\"no\" style=\"border:none;\" seamless=\"seamless\" src=\"https://plot.ly/~pmoolrajani/21.embed\" height=\"525px\" width=\"100%\"></iframe>"
      ],
      "text/plain": [
       "<plotly.tools.PlotlyDisplay object>"
      ]
     },
     "execution_count": 9,
     "metadata": {},
     "output_type": "execute_result"
    }
   ],
   "source": [
    "# Logic Section - negative confidence interval  \n",
    "\n",
    "x_axis = []\n",
    "y_axis = []\n",
    "\n",
    "\n",
    "for score_emp in range(0,1000):\n",
    "    cneg = math.pow((score_emp), p)\n",
    "    x_axis.append(score_emp)\n",
    "    y_axis.append(cneg)\n",
    "\n",
    "trace_cneg = Scatter(\n",
    "    x = x_axis,\n",
    "    y = y_axis\n",
    ")\n",
    "\n",
    "\n",
    "data = Data([trace_cneg])\n",
    "print ('Negative Confidence Interval')\n",
    "py.iplot(data, filename='confidence_interval_neg')\n"
   ]
  },
  {
   "cell_type": "code",
   "execution_count": 10,
   "metadata": {
    "collapsed": false
   },
   "outputs": [
    {
     "name": "stdout",
     "output_type": "stream",
     "text": [
      "Positive & Negative Confidence Interval\n"
     ]
    },
    {
     "data": {
      "text/html": [
       "<iframe id=\"igraph\" scrolling=\"no\" style=\"border:none;\" seamless=\"seamless\" src=\"https://plot.ly/~pmoolrajani/23.embed\" height=\"525px\" width=\"100%\"></iframe>"
      ],
      "text/plain": [
       "<plotly.tools.PlotlyDisplay object>"
      ]
     },
     "execution_count": 10,
     "metadata": {},
     "output_type": "execute_result"
    }
   ],
   "source": [
    "# Logic Section - positive & negative confidence interval  \n",
    "\n",
    "upper_limit_y_axis = []\n",
    "lower_limit_y_axis = []\n",
    "\n",
    "score_x_axis = []\n",
    "\n",
    "\n",
    "for score in range(0,1000):\n",
    "    delta = 1000-score\n",
    "    c_pos = math.pow(delta, p)\n",
    "    c_neg = math.pow(score, p)\n",
    "    \n",
    "    upper_limit_y_axis.append(score + c_pos)\n",
    "    lower_limit_y_axis.append(score - c_neg)\n",
    "    \n",
    "    score_x_axis.append(score)\n",
    "\n",
    "trace_upper_limit = Scatter(\n",
    "    x = x_axis,\n",
    "    y = y_axis\n",
    ")\n",
    "\n",
    "trace_upper = Scatter (x=score_x_axis, y=upper_limit_y_axis)\n",
    "trace_straight = Scatter (x=score_x_axis, y=score_x_axis)\n",
    "trace_lower = Scatter (x=score_x_axis, y=lower_limit_y_axis)\n",
    "\n",
    "data = Data([trace_upper, trace_straight, trace_lower])\n",
    "print ('Positive & Negative Confidence Interval')\n",
    "py.iplot(data, filename='confidence_interval_pos_neg')"
   ]
  }
 ],
 "metadata": {
  "kernelspec": {
   "display_name": "Python 3",
   "language": "python",
   "name": "python3"
  },
  "language_info": {
   "codemirror_mode": {
    "name": "ipython",
    "version": 3
   },
   "file_extension": ".py",
   "mimetype": "text/x-python",
   "name": "python",
   "nbconvert_exporter": "python",
   "pygments_lexer": "ipython3",
   "version": "3.5.1"
  }
 },
 "nbformat": 4,
 "nbformat_minor": 0
}
