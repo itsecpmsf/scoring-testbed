{
 "cells": [
  {
   "cell_type": "code",
   "execution_count": 32,
   "metadata": {
    "collapsed": true
   },
   "outputs": [],
   "source": [
    "import math\n",
    "from datetime import date, datetime\n",
    "from dateutil import parser\n",
    "import plotly\n",
    "plotly.tools.set_credentials_file(username='pmoolrajani', api_key='lqy9gutcnu')\n",
    "import plotly.plotly as py\n",
    "from plotly.graph_objs import *\n",
    "\n",
    "# setting constants\n",
    "__SCORE_MAX = 1000\n",
    "__SCORE_MIN = 0\n",
    "__TIME_INTERVAL = 14\n",
    "\n",
    "\n",
    "# setting initial values\n",
    "score_avg_company = 620\n",
    "score_emp = score_avg_company\n",
    "x_axis = []\n",
    "y_axis = []\n",
    "\n",
    "for i in range(0,1000, 10):\n",
    "    counter = 0\n",
    "    score_emp = i\n",
    "    while score_emp < 1000:\n",
    "        counter += 1\n",
    "        #print (__SCORE_MAX - score_emp)\n",
    "        cpos = math.pow((__SCORE_MAX - score_emp), 0.5)\n",
    "        #print (cpos)\n",
    "        score_emp += cpos\n",
    "        #print (score_emp)\n",
    "    x_axis.append(i)\n",
    "    y_axis.append(counter)\n",
    "    #print (counter)\n",
    "\n"
   ]
  },
  {
   "cell_type": "code",
   "execution_count": 33,
   "metadata": {
    "collapsed": false
   },
   "outputs": [
    {
     "data": {
      "text/html": [
       "<iframe id=\"igraph\" scrolling=\"no\" style=\"border:none;\" seamless=\"seamless\" src=\"https://plot.ly/~pmoolrajani/15.embed\" height=\"525px\" width=\"100%\"></iframe>"
      ],
      "text/plain": [
       "<plotly.tools.PlotlyDisplay object>"
      ]
     },
     "execution_count": 33,
     "metadata": {},
     "output_type": "execute_result"
    }
   ],
   "source": [
    "# plotting a graph\n",
    "trace = Scatter(\n",
    "    x = x_axis,\n",
    "    y = y_axis\n",
    ")\n",
    "data = Data([trace])\n",
    "py.iplot(data, filename='time_to_high_score')"
   ]
  }
 ],
 "metadata": {
  "kernelspec": {
   "display_name": "Python 3",
   "language": "python",
   "name": "python3"
  },
  "language_info": {
   "codemirror_mode": {
    "name": "ipython",
    "version": 3
   },
   "file_extension": ".py",
   "mimetype": "text/x-python",
   "name": "python",
   "nbconvert_exporter": "python",
   "pygments_lexer": "ipython3",
   "version": "3.5.1"
  }
 },
 "nbformat": 4,
 "nbformat_minor": 0
}
